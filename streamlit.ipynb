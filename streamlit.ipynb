{
  "nbformat": 4,
  "nbformat_minor": 0,
  "metadata": {
    "colab": {
      "provenance": []
    },
    "kernelspec": {
      "name": "python3",
      "display_name": "Python 3"
    },
    "language_info": {
      "name": "python"
    }
  },
  "cells": [
    {
      "cell_type": "code",
      "execution_count": 1,
      "metadata": {
        "colab": {
          "base_uri": "https://localhost:8080/",
          "height": 393
        },
        "id": "JJAO1juldvsR",
        "outputId": "a8f7392b-3fae-4a04-b0f9-1b89e18e82a3"
      },
      "outputs": [
        {
          "output_type": "error",
          "ename": "ModuleNotFoundError",
          "evalue": "No module named 'streamlit'",
          "traceback": [
            "\u001b[0;31m---------------------------------------------------------------------------\u001b[0m",
            "\u001b[0;31mModuleNotFoundError\u001b[0m                       Traceback (most recent call last)",
            "\u001b[0;32m<ipython-input-1-ce843963bfe6>\u001b[0m in \u001b[0;36m<cell line: 1>\u001b[0;34m()\u001b[0m\n\u001b[0;32m----> 1\u001b[0;31m \u001b[0;32mimport\u001b[0m \u001b[0mstreamlit\u001b[0m \u001b[0;32mas\u001b[0m \u001b[0mst\u001b[0m\u001b[0;34m\u001b[0m\u001b[0;34m\u001b[0m\u001b[0m\n\u001b[0m\u001b[1;32m      2\u001b[0m \u001b[0;32mimport\u001b[0m \u001b[0mpickle\u001b[0m\u001b[0;34m\u001b[0m\u001b[0;34m\u001b[0m\u001b[0m\n\u001b[1;32m      3\u001b[0m \u001b[0;32mimport\u001b[0m \u001b[0mnumpy\u001b[0m \u001b[0;32mas\u001b[0m \u001b[0mnp\u001b[0m\u001b[0;34m\u001b[0m\u001b[0;34m\u001b[0m\u001b[0m\n\u001b[1;32m      4\u001b[0m \u001b[0;32mfrom\u001b[0m \u001b[0mdatetime\u001b[0m \u001b[0;32mimport\u001b[0m \u001b[0mdatetime\u001b[0m\u001b[0;34m\u001b[0m\u001b[0;34m\u001b[0m\u001b[0m\n\u001b[1;32m      5\u001b[0m \u001b[0;34m\u001b[0m\u001b[0m\n",
            "\u001b[0;31mModuleNotFoundError\u001b[0m: No module named 'streamlit'",
            "",
            "\u001b[0;31m---------------------------------------------------------------------------\u001b[0;32m\nNOTE: If your import is failing due to a missing package, you can\nmanually install dependencies using either !pip or !apt.\n\nTo view examples of installing some common dependencies, click the\n\"Open Examples\" button below.\n\u001b[0;31m---------------------------------------------------------------------------\u001b[0m\n"
          ],
          "errorDetails": {
            "actions": [
              {
                "action": "open_url",
                "actionText": "Open Examples",
                "url": "/notebooks/snippets/importing_libraries.ipynb"
              }
            ]
          }
        }
      ],
      "source": [
        "import streamlit as st\n",
        "import pandas as pd\n",
        "import matplotlib.pyplot as plt\n",
        "import seaborn as sns\n",
        "import plotly.express as px\n",
        "import pickle\n",
        "import numpy as np\n",
        "from datetime import datetime\n",
        "\n",
        "# Load the car price model from the pickle file\n",
        "with open(\"car_price_model.pkl\", \"rb\") as f:\n",
        "    car_price_model = pickle.load(f)\n",
        "\n",
        "# Set the title of the Streamlit app\n",
        "st.title(\"Car Price Prediction\")\n",
        "\n",
        "# Create input fields for Year, Make, Model, Odometer, and Condition\n",
        "year = st.number_input(\n",
        "    \"Year\", min_value=1900, max_value=datetime.now().year, value=2020\n",
        ")\n",
        "odometer = st.number_input(\"Odometer (miles)\", min_value=0, value=10000)\n",
        "make = st.text_input(\"Make (e.g., Toyota, Ford)\")\n",
        "model = st.text_input(\"Model (e.g., Corolla, Mustang)\")\n",
        "condition = st.selectbox(\n",
        "    \"Condition\", [\"Excellent\", \"Good\", \"Fair\", \"Poor\"]\n",
        ")\n",
        "\n",
        "# Encode the condition to a numerical value (example mapping)\n",
        "condition_dict = {\n",
        "    \"Excellent\": 4,\n",
        "    \"Good\": 3,\n",
        "    \"Fair\": 2,\n",
        "    \"Poor\": 1\n",
        "}\n",
        "\n",
        "# Output a prediction based on the inputs\n",
        "if st.button(\"Predict\"):\n",
        "    # Calculate vehicle age\n",
        "    current_year = datetime.now().year\n",
        "    age = current_year - year\n",
        "\n",
        "    # Encode the condition\n",
        "    encoded_condition = condition_dict[condition]\n",
        "\n",
        "    # Create a feature array for the model\n",
        "    features = np.array(\n",
        "        [\n",
        "            [\n",
        "                year,\n",
        "                odometer,\n",
        "                age,\n",
        "                encoded_condition\n",
        "            ]\n",
        "        ]\n",
        "    )\n",
        "\n",
        "    # Make a prediction using the car price model\n",
        "    predicted_price = car_price_model.predict(features)\n",
        "\n",
        "    # Display the predicted price\n",
        "    st.write(\n",
        "        f\"The predicted price for a {year} {make} {model} in {condition} condition with {odometer} miles is ${predicted_price[0]:,.2f}.\"\n",
        "    )\n"
      ]
    },
    {
      "cell_type": "code",
      "source": [],
      "metadata": {
        "id": "TbeRhvB9w5S0"
      },
      "execution_count": null,
      "outputs": []
    },
    {
      "cell_type": "code",
      "source": [],
      "metadata": {
        "id": "U81TZnzadxH_"
      },
      "execution_count": null,
      "outputs": []
    }
  ]
}